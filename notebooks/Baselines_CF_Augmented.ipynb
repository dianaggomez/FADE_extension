{
 "cells": [
  {
   "cell_type": "markdown",
   "metadata": {},
   "source": [
    "Implement the three baselines from CLAIRE and evaluate them on the validation set of the Adult dataset as in FADE."
   ]
  },
  {
   "cell_type": "code",
   "execution_count": 1,
   "metadata": {},
   "outputs": [],
   "source": [
    "%reload_ext autoreload\n",
    "%autoreload 2\n",
    "import os\n",
    "import sys\n",
    "sys.path.append(\"..\")\n",
    "import warnings\n",
    "warnings.filterwarnings(\"ignore\")\n",
    "import numpy as np\n",
    "import pandas as pd\n",
    "import matplotlib.pyplot as plt\n",
    "import seaborn as sns\n",
    "sns.set_style('darkgrid')"
   ]
  },
  {
   "cell_type": "code",
   "execution_count": 4,
   "metadata": {},
   "outputs": [
    {
     "data": {
      "text/plain": [
       "((29304, 5), (9769, 5))"
      ]
     },
     "execution_count": 4,
     "metadata": {},
     "output_type": "execute_result"
    }
   ],
   "source": [
    "train_data_obs = pd.read_csv('../data/adult/train_betahats.csv')  # observed data\n",
    "train_data_cf = pd.read_csv('../data/adult/train_betahats_cf_claire.csv')  # counterfactual data\n",
    "train_data = pd.concat([train_data_obs, train_data_cf], axis=0)  # full augmented data\n",
    "\n",
    "val_data = pd.read_csv('../data/adult/validate.csv')\n",
    "\n",
    "train_data.shape, val_data.shape"
   ]
  },
  {
   "cell_type": "code",
   "execution_count": 5,
   "metadata": {},
   "outputs": [
    {
     "data": {
      "text/html": [
       "<div>\n",
       "<style scoped>\n",
       "    .dataframe tbody tr th:only-of-type {\n",
       "        vertical-align: middle;\n",
       "    }\n",
       "\n",
       "    .dataframe tbody tr th {\n",
       "        vertical-align: top;\n",
       "    }\n",
       "\n",
       "    .dataframe thead th {\n",
       "        text-align: right;\n",
       "    }\n",
       "</style>\n",
       "<table border=\"1\" class=\"dataframe\">\n",
       "  <thead>\n",
       "    <tr style=\"text-align: right;\">\n",
       "      <th></th>\n",
       "      <th>age</th>\n",
       "      <th>education_num</th>\n",
       "      <th>sex</th>\n",
       "      <th>income</th>\n",
       "      <th>loan_approved</th>\n",
       "    </tr>\n",
       "  </thead>\n",
       "  <tbody>\n",
       "    <tr>\n",
       "      <th>0</th>\n",
       "      <td>82</td>\n",
       "      <td>9</td>\n",
       "      <td>0</td>\n",
       "      <td>0</td>\n",
       "      <td>1</td>\n",
       "    </tr>\n",
       "    <tr>\n",
       "      <th>1</th>\n",
       "      <td>53</td>\n",
       "      <td>9</td>\n",
       "      <td>0</td>\n",
       "      <td>0</td>\n",
       "      <td>0</td>\n",
       "    </tr>\n",
       "    <tr>\n",
       "      <th>2</th>\n",
       "      <td>24</td>\n",
       "      <td>13</td>\n",
       "      <td>0</td>\n",
       "      <td>0</td>\n",
       "      <td>1</td>\n",
       "    </tr>\n",
       "    <tr>\n",
       "      <th>3</th>\n",
       "      <td>37</td>\n",
       "      <td>10</td>\n",
       "      <td>1</td>\n",
       "      <td>0</td>\n",
       "      <td>1</td>\n",
       "    </tr>\n",
       "    <tr>\n",
       "      <th>4</th>\n",
       "      <td>68</td>\n",
       "      <td>9</td>\n",
       "      <td>1</td>\n",
       "      <td>0</td>\n",
       "      <td>0</td>\n",
       "    </tr>\n",
       "  </tbody>\n",
       "</table>\n",
       "</div>"
      ],
      "text/plain": [
       "   age  education_num  sex  income  loan_approved\n",
       "0   82              9    0       0              1\n",
       "1   53              9    0       0              0\n",
       "2   24             13    0       0              1\n",
       "3   37             10    1       0              1\n",
       "4   68              9    1       0              0"
      ]
     },
     "execution_count": 5,
     "metadata": {},
     "output_type": "execute_result"
    }
   ],
   "source": [
    "train_data.head()"
   ]
  },
  {
   "cell_type": "code",
   "execution_count": 6,
   "metadata": {},
   "outputs": [
    {
     "data": {
      "text/html": [
       "<div>\n",
       "<style scoped>\n",
       "    .dataframe tbody tr th:only-of-type {\n",
       "        vertical-align: middle;\n",
       "    }\n",
       "\n",
       "    .dataframe tbody tr th {\n",
       "        vertical-align: top;\n",
       "    }\n",
       "\n",
       "    .dataframe thead th {\n",
       "        text-align: right;\n",
       "    }\n",
       "</style>\n",
       "<table border=\"1\" class=\"dataframe\">\n",
       "  <thead>\n",
       "    <tr style=\"text-align: right;\">\n",
       "      <th></th>\n",
       "      <th>age</th>\n",
       "      <th>education_num</th>\n",
       "      <th>sex</th>\n",
       "      <th>income</th>\n",
       "      <th>loan_approved</th>\n",
       "    </tr>\n",
       "  </thead>\n",
       "  <tbody>\n",
       "    <tr>\n",
       "      <th>0</th>\n",
       "      <td>58</td>\n",
       "      <td>9</td>\n",
       "      <td>0</td>\n",
       "      <td>0</td>\n",
       "      <td>0</td>\n",
       "    </tr>\n",
       "    <tr>\n",
       "      <th>1</th>\n",
       "      <td>40</td>\n",
       "      <td>14</td>\n",
       "      <td>0</td>\n",
       "      <td>1</td>\n",
       "      <td>1</td>\n",
       "    </tr>\n",
       "    <tr>\n",
       "      <th>2</th>\n",
       "      <td>24</td>\n",
       "      <td>9</td>\n",
       "      <td>0</td>\n",
       "      <td>0</td>\n",
       "      <td>1</td>\n",
       "    </tr>\n",
       "    <tr>\n",
       "      <th>3</th>\n",
       "      <td>35</td>\n",
       "      <td>9</td>\n",
       "      <td>0</td>\n",
       "      <td>0</td>\n",
       "      <td>1</td>\n",
       "    </tr>\n",
       "    <tr>\n",
       "      <th>4</th>\n",
       "      <td>65</td>\n",
       "      <td>10</td>\n",
       "      <td>0</td>\n",
       "      <td>0</td>\n",
       "      <td>1</td>\n",
       "    </tr>\n",
       "  </tbody>\n",
       "</table>\n",
       "</div>"
      ],
      "text/plain": [
       "   age  education_num  sex  income  loan_approved\n",
       "0   58              9    0       0              0\n",
       "1   40             14    0       1              1\n",
       "2   24              9    0       0              1\n",
       "3   35              9    0       0              1\n",
       "4   65             10    0       0              1"
      ]
     },
     "execution_count": 6,
     "metadata": {},
     "output_type": "execute_result"
    }
   ],
   "source": [
    "val_data.head()"
   ]
  },
  {
   "cell_type": "code",
   "execution_count": 7,
   "metadata": {},
   "outputs": [],
   "source": [
    "covariates = ['age', 'education_num']\n",
    "protected = 'sex'\n",
    "all_covariates = covariates + [protected]\n",
    "outcome = 'income'\n",
    "decision = 'loan_approved'"
   ]
  },
  {
   "cell_type": "markdown",
   "metadata": {},
   "source": [
    "Following the procedure in FADE for the counterfactual setting:\n",
    "> We only train on data in which D = 0: under the ignorability assumption, E[Y|A,X,D=0] = E[Y(0)|A,X], so this results in predictors which are designed to estimate Y(0)."
   ]
  },
  {
   "cell_type": "code",
   "execution_count": 8,
   "metadata": {},
   "outputs": [
    {
     "data": {
      "text/plain": [
       "9990"
      ]
     },
     "execution_count": 8,
     "metadata": {},
     "output_type": "execute_result"
    }
   ],
   "source": [
    "train_data = train_data.loc[train_data[decision].eq(0)]\n",
    "len(train_data)"
   ]
  },
  {
   "cell_type": "code",
   "execution_count": 9,
   "metadata": {},
   "outputs": [],
   "source": [
    "from sklearn.metrics import mean_squared_error, roc_auc_score\n",
    "from src.metrics import independence_violation, deltahatplus, deltahatminus, counterfactual_fairness_mmd\n",
    "\n",
    "\n",
    "def predict(model, data, continuous=True):\n",
    "    \"\"\"Generate predictions from trained model.\"\"\"\n",
    "    if continuous and hasattr(model, 'predict_proba'):\n",
    "        Z = model.predict_proba(data)[:, 1]\n",
    "    else:\n",
    "        Z = model.predict(data)\n",
    "\n",
    "    Z = np.clip(Z, 0, 1)\n",
    "    return Z\n",
    "\n",
    "\n",
    "def evaluate(model, data, covariates, protected, outcome):\n",
    "    preds = predict(model, data[covariates])\n",
    "\n",
    "    # Risk\n",
    "    mse = mean_squared_error(data[outcome], preds)\n",
    "    auc = roc_auc_score(data[outcome], preds)\n",
    "\n",
    "    # Fairness \n",
    "    rate_diff = independence_violation(data[protected], preds)\n",
    "    fpr_diff = deltahatplus(data[protected], data[outcome], preds)\n",
    "    fnr_diff = deltahatminus(data[protected], data[outcome], preds)\n",
    "    mmd = counterfactual_fairness_mmd(model, data[covariates].values, [0, 1])\n",
    "    \n",
    "    return {\n",
    "        'MSE': mse, 'AUC': auc,\n",
    "        'rate-diff': rate_diff, 'FPR-diff': fpr_diff, 'FNR-diff': fnr_diff, 'MMD': mmd\n",
    "    }"
   ]
  },
  {
   "cell_type": "code",
   "execution_count": 10,
   "metadata": {},
   "outputs": [],
   "source": [
    "metrics_val = []"
   ]
  },
  {
   "cell_type": "markdown",
   "metadata": {},
   "source": [
    "**CLAIRE Baselines**:"
   ]
  },
  {
   "cell_type": "markdown",
   "metadata": {},
   "source": [
    "**Constant Predictor**: A predictor which has constant output for any input. We obtain this constant predictor by finding a constant which can minimize the mean squared error (MSE) loss on the training data."
   ]
  },
  {
   "cell_type": "code",
   "execution_count": 11,
   "metadata": {},
   "outputs": [],
   "source": [
    "from sklearn.dummy import DummyRegressor\n",
    "\n",
    "model_constant = DummyRegressor(strategy='mean')\n",
    "model_constant.fit(train_data[covariates], train_data[outcome])\n",
    "\n",
    "results_constant = evaluate(model_constant, val_data, covariates, protected, outcome)\n",
    "metrics_val.append({'model': 'Constant', **results_constant})"
   ]
  },
  {
   "cell_type": "markdown",
   "metadata": {},
   "source": [
    "**Full Predictor**:  Full predictor takes all the observed attributes (except the attribute used as label) as input for prediction."
   ]
  },
  {
   "cell_type": "code",
   "execution_count": 12,
   "metadata": {},
   "outputs": [],
   "source": [
    "from sklearn.ensemble import RandomForestClassifier\n",
    "\n",
    "model_full = RandomForestClassifier(random_state=42)\n",
    "model_full.fit(train_data[all_covariates], train_data[outcome])\n",
    "\n",
    "results_full = evaluate(model_full, val_data, all_covariates, protected, outcome)\n",
    "metrics_val.append({'model': 'Full', **results_full})"
   ]
  },
  {
   "cell_type": "code",
   "execution_count": 13,
   "metadata": {},
   "outputs": [
    {
     "data": {
      "image/png": "[encoded data removed]",
      "text/plain": [
       "<Figure size 640x480 with 1 Axes>"
      ]
     },
     "metadata": {},
     "output_type": "display_data"
    }
   ],
   "source": [
    "preds_full = predict(model_full, val_data[all_covariates])\n",
    "val_full = val_data.copy().assign(preds_full=preds_full)\n",
    "\n",
    "sns.kdeplot(val_full.loc[val_full[decision].eq(0), 'preds_full'], label='Loan Denied')\n",
    "sns.kdeplot(val_full.loc[val_full[decision].eq(1), 'preds_full'], label='Loan Approved')\n",
    "plt.xlabel('Predicted Probability')\n",
    "plt.ylabel('Density')\n",
    "plt.title('Predicted Probabilities by Loan Decision')\n",
    "plt.legend()\n",
    "plt.show()"
   ]
  },
  {
   "cell_type": "markdown",
   "metadata": {},
   "source": [
    "**Unaware Predictor**: Unaware predictor is based on the notion of *fairness through unawareness*. It takes all features except the sensitive attribute as input to predict the label."
   ]
  },
  {
   "cell_type": "code",
   "execution_count": 14,
   "metadata": {},
   "outputs": [],
   "source": [
    "from sklearn.ensemble import RandomForestClassifier\n",
    "\n",
    "model_unaware = RandomForestClassifier(random_state=42)\n",
    "model_unaware.fit(train_data[covariates], train_data[outcome])\n",
    "\n",
    "results_unaware = evaluate(model_unaware, val_data, covariates, protected, outcome)\n",
    "metrics_val.append({'model': 'Unaware', **results_unaware})"
   ]
  },
  {
   "cell_type": "code",
   "execution_count": 15,
   "metadata": {},
   "outputs": [
    {
     "data": {
      "image/png": "[encoded data removed]",
      "text/plain": [
       "<Figure size 640x480 with 1 Axes>"
      ]
     },
     "metadata": {},
     "output_type": "display_data"
    }
   ],
   "source": [
    "preds_unaware = predict(model_unaware, val_data[covariates])\n",
    "val_unaware = val_data.copy().assign(preds_unaware=preds_unaware)\n",
    "\n",
    "sns.kdeplot(val_unaware.loc[val_unaware[decision].eq(0), 'preds_unaware'], label='Loan Denied')\n",
    "sns.kdeplot(val_unaware.loc[val_unaware[decision].eq(1), 'preds_unaware'], label='Loan Approved')\n",
    "plt.xlabel('Predicted Probability')\n",
    "plt.ylabel('Density')\n",
    "plt.title('Predicted Probabilities by Loan Decision')\n",
    "plt.legend()\n",
    "plt.show()"
   ]
  },
  {
   "cell_type": "markdown",
   "metadata": {},
   "source": [
    "Final baseline metrics on validation set:"
   ]
  },
  {
   "cell_type": "code",
   "execution_count": 16,
   "metadata": {},
   "outputs": [
    {
     "data": {
      "text/html": [
       "<div>\n",
       "<style scoped>\n",
       "    .dataframe tbody tr th:only-of-type {\n",
       "        vertical-align: middle;\n",
       "    }\n",
       "\n",
       "    .dataframe tbody tr th {\n",
       "        vertical-align: top;\n",
       "    }\n",
       "\n",
       "    .dataframe thead th {\n",
       "        text-align: right;\n",
       "    }\n",
       "</style>\n",
       "<table border=\"1\" class=\"dataframe\">\n",
       "  <thead>\n",
       "    <tr style=\"text-align: right;\">\n",
       "      <th></th>\n",
       "      <th>MSE</th>\n",
       "      <th>AUC</th>\n",
       "      <th>rate-diff</th>\n",
       "      <th>FPR-diff</th>\n",
       "      <th>FNR-diff</th>\n",
       "      <th>MMD</th>\n",
       "    </tr>\n",
       "  </thead>\n",
       "  <tbody>\n",
       "    <tr>\n",
       "      <th>Constant</th>\n",
       "      <td>0.20</td>\n",
       "      <td>0.50</td>\n",
       "      <td>0.00</td>\n",
       "      <td>0.00</td>\n",
       "      <td>0.00</td>\n",
       "      <td>0.0</td>\n",
       "    </tr>\n",
       "    <tr>\n",
       "      <th>Full</th>\n",
       "      <td>0.17</td>\n",
       "      <td>0.73</td>\n",
       "      <td>0.03</td>\n",
       "      <td>0.01</td>\n",
       "      <td>0.01</td>\n",
       "      <td>0.0</td>\n",
       "    </tr>\n",
       "    <tr>\n",
       "      <th>Unaware</th>\n",
       "      <td>0.17</td>\n",
       "      <td>0.74</td>\n",
       "      <td>0.03</td>\n",
       "      <td>0.01</td>\n",
       "      <td>0.02</td>\n",
       "      <td>0.0</td>\n",
       "    </tr>\n",
       "  </tbody>\n",
       "</table>\n",
       "</div>"
      ],
      "text/plain": [
       "           MSE   AUC  rate-diff  FPR-diff  FNR-diff  MMD\n",
       "Constant  0.20  0.50       0.00      0.00      0.00  0.0\n",
       "Full      0.17  0.73       0.03      0.01      0.01  0.0\n",
       "Unaware   0.17  0.74       0.03      0.01      0.02  0.0"
      ]
     },
     "execution_count": 16,
     "metadata": {},
     "output_type": "execute_result"
    }
   ],
   "source": [
    "metrics = pd.DataFrame(metrics_val).set_index('model')\n",
    "metrics.index.name = None\n",
    "metrics.round(2)"
   ]
  },
  {
   "cell_type": "code",
   "execution_count": 17,
   "metadata": {},
   "outputs": [],
   "source": [
    "with open('../models/adult/baselines_aug.tex', 'w') as f:\n",
    "    f.write(metrics.to_latex(float_format='%0.2f', bold_rows=False))"
   ]
  },
  {
   "cell_type": "code",
   "execution_count": 18,
   "metadata": {},
   "outputs": [
    {
     "data": {
      "text/plain": [
       "Constant    0.0e+00\n",
       "Full        1.3e-03\n",
       "Unaware     0.0e+00\n",
       "Name: MMD, dtype: object"
      ]
     },
     "execution_count": 18,
     "metadata": {},
     "output_type": "execute_result"
    }
   ],
   "source": [
    "# Scientific notation\n",
    "metrics[\"MMD\"].apply(lambda x: '%.1e' % x)"
   ]
  },
  {
   "cell_type": "code",
   "execution_count": null,
   "metadata": {},
   "outputs": [],
   "source": []
  }
 ],
 "metadata": {
  "kernelspec": {
   "display_name": "causalml",
   "language": "python",
   "name": "python3"
  },
  "language_info": {
   "codemirror_mode": {
    "name": "ipython",
    "version": 3
   },
   "file_extension": ".py",
   "mimetype": "text/x-python",
   "name": "python",
   "nbconvert_exporter": "python",
   "pygments_lexer": "ipython3",
   "version": "3.11.4"
  }
 },
 "nbformat": 4,
 "nbformat_minor": 2
}
